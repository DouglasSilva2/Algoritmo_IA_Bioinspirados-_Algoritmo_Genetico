{
  "nbformat": 4,
  "nbformat_minor": 0,
  "metadata": {
    "colab": {
      "provenance": [],
      "mount_file_id": "1U7U_no3BReYaX24U75fnbmaoiNK_BLKl",
      "authorship_tag": "ABX9TyOM4HBb014hSDkLOoXwARh/"
    },
    "kernelspec": {
      "name": "python3",
      "display_name": "Python 3"
    },
    "language_info": {
      "name": "python"
    }
  },
  "cells": [
    {
      "cell_type": "markdown",
      "source": [
        "ALGORITMOS DE INTELIGENCIA ARTIFICIAL BIOINSPIRADOS - ALGORITMOS GENETICOS"
      ],
      "metadata": {
        "id": "yiPAxzYtu7zw"
      }
    },
    {
      "cell_type": "markdown",
      "source": [
        "Representação do problema - calendarios de voos"
      ],
      "metadata": {
        "id": "3Aa5rKmev6-W"
      }
    },
    {
      "cell_type": "code",
      "execution_count": 1,
      "metadata": {
        "id": "iUk8DNoOuytg"
      },
      "outputs": [],
      "source": [
        "import time #para data e horas\n",
        "import random # biblioteca rondomica\n",
        "import math # para recursos matematicos\n",
        "import sys\n"
      ]
    },
    {
      "cell_type": "code",
      "source": [
        "pessoas = [('Lisbon', 'LIS'),\n",
        "           ('Madrid', 'MAD'),\n",
        "           ('Paris', 'CDG'),\n",
        "           ('Dublin', 'DUB'),\n",
        "           ('Brussels', 'BRU'),\n",
        "           ('London', 'LHR')]"
      ],
      "metadata": {
        "id": "HB2i9KdMwQ13"
      },
      "execution_count": 2,
      "outputs": []
    },
    {
      "cell_type": "code",
      "source": [
        "pessoas [5] # formato em tupla"
      ],
      "metadata": {
        "colab": {
          "base_uri": "https://localhost:8080/"
        },
        "id": "jBKAjOSoxBkX",
        "outputId": "97ad3ca4-54b7-407a-d2e6-cb43605de487"
      },
      "execution_count": 5,
      "outputs": [
        {
          "output_type": "execute_result",
          "data": {
            "text/plain": [
              "('London', 'LHR')"
            ]
          },
          "metadata": {},
          "execution_count": 5
        }
      ]
    },
    {
      "cell_type": "code",
      "source": [
        "destino = 'FCO' #Destino eh Roma"
      ],
      "metadata": {
        "id": "bCUFPJM7xOMS"
      },
      "execution_count": 1,
      "outputs": []
    },
    {
      "cell_type": "markdown",
      "source": [],
      "metadata": {
        "id": "olll68z8L_0K"
      }
    },
    {
      "cell_type": "code",
      "source": [
        "#estrutura de dados em formato tupla\n",
        "voos = {('BRU', 'FCO'): ['15:44', '18:55', '382']}"
      ],
      "metadata": {
        "id": "Rs2RQk14LIUB"
      },
      "execution_count": 2,
      "outputs": []
    },
    {
      "cell_type": "code",
      "source": [
        "voos #acessando a variavel"
      ],
      "metadata": {
        "colab": {
          "base_uri": "https://localhost:8080/"
        },
        "id": "1UfOXUraMOzn",
        "outputId": "80fbad51-9276-4e76-8693-d1f54b42371f"
      },
      "execution_count": 4,
      "outputs": [
        {
          "output_type": "execute_result",
          "data": {
            "text/plain": [
              "{('BRU', 'FCO'): ['15:44', '18:55', '382']}"
            ]
          },
          "metadata": {},
          "execution_count": 4
        }
      ]
    }
  ]
}