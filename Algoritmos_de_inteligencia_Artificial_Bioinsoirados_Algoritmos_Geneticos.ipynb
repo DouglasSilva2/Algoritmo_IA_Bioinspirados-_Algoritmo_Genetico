{
  "nbformat": 4,
  "nbformat_minor": 0,
  "metadata": {
    "colab": {
      "provenance": [],
      "authorship_tag": "ABX9TyPSwSbsINfNGAC1diXYNgJP"
    },
    "kernelspec": {
      "name": "python3",
      "display_name": "Python 3"
    },
    "language_info": {
      "name": "python"
    }
  },
  "cells": [
    {
      "cell_type": "markdown",
      "source": [
        "ALGORITMOS DE INTELIGENCIA ARTIFICIAL BIOINSPIRADOS - ALGORITMOS GENETICOS"
      ],
      "metadata": {
        "id": "yiPAxzYtu7zw"
      }
    },
    {
      "cell_type": "markdown",
      "source": [
        "Representação do problema - calendarios de voos"
      ],
      "metadata": {
        "id": "3Aa5rKmev6-W"
      }
    },
    {
      "cell_type": "code",
      "execution_count": 67,
      "metadata": {
        "id": "iUk8DNoOuytg"
      },
      "outputs": [],
      "source": [
        "import time #para data e horas\n",
        "import random # biblioteca rondomica\n",
        "import math # para recursos matematicos\n",
        "import sys\n"
      ]
    },
    {
      "cell_type": "code",
      "source": [
        "pessoas = [('Lisbon', 'LIS'),\n",
        "           ('Madrid', 'MAD'),\n",
        "           ('Paris', 'CDG'),\n",
        "           ('Dublin', 'DUB'),\n",
        "           ('Brussels', 'BRU'),\n",
        "           ('London', 'LHR')]"
      ],
      "metadata": {
        "id": "HB2i9KdMwQ13"
      },
      "execution_count": 68,
      "outputs": []
    },
    {
      "cell_type": "code",
      "source": [
        "pessoas [5] # formato em tupla"
      ],
      "metadata": {
        "colab": {
          "base_uri": "https://localhost:8080/"
        },
        "id": "jBKAjOSoxBkX",
        "outputId": "de5ae47e-dccb-4f3d-cee8-95fbf7abde39"
      },
      "execution_count": 69,
      "outputs": [
        {
          "output_type": "execute_result",
          "data": {
            "text/plain": [
              "('London', 'LHR')"
            ]
          },
          "metadata": {},
          "execution_count": 69
        }
      ]
    },
    {
      "cell_type": "code",
      "source": [
        "destino = 'FCO' #Destino eh Roma"
      ],
      "metadata": {
        "id": "bCUFPJM7xOMS"
      },
      "execution_count": 70,
      "outputs": []
    },
    {
      "cell_type": "markdown",
      "source": [],
      "metadata": {
        "id": "olll68z8L_0K"
      }
    },
    {
      "cell_type": "code",
      "source": [
        "#estrutura de dados em formato tupla\n",
        "voos = {('BRU', 'FCO'): ['15:44', '18:55', '382']}"
      ],
      "metadata": {
        "id": "Rs2RQk14LIUB"
      },
      "execution_count": 71,
      "outputs": []
    },
    {
      "cell_type": "code",
      "source": [
        "voos #acessando a variavel"
      ],
      "metadata": {
        "colab": {
          "base_uri": "https://localhost:8080/"
        },
        "id": "1UfOXUraMOzn",
        "outputId": "282dbe94-055a-4782-ce9e-015fbc8b6685"
      },
      "execution_count": 72,
      "outputs": [
        {
          "output_type": "execute_result",
          "data": {
            "text/plain": [
              "{('BRU', 'FCO'): ['15:44', '18:55', '382']}"
            ]
          },
          "metadata": {},
          "execution_count": 72
        }
      ]
    },
    {
      "cell_type": "code",
      "source": [
        "voos [('BRU', 'FCO')]"
      ],
      "metadata": {
        "colab": {
          "base_uri": "https://localhost:8080/"
        },
        "id": "nElxfKBzNFVf",
        "outputId": "89a604b0-9892-424b-c663-d0c6ed8bf028"
      },
      "execution_count": 73,
      "outputs": [
        {
          "output_type": "execute_result",
          "data": {
            "text/plain": [
              "['15:44', '18:55', '382']"
            ]
          },
          "metadata": {},
          "execution_count": 73
        }
      ]
    },
    {
      "cell_type": "code",
      "source": [
        "#Teste de acesso aos dados nas suas respectivas posições\n",
        "voos [('BRU', 'FCO')][0], voos[('BRU','FCO')][1], voos [('BRU', 'FCO')][2]"
      ],
      "metadata": {
        "colab": {
          "base_uri": "https://localhost:8080/"
        },
        "id": "pdR7Q6ztOIky",
        "outputId": "ec2560cb-6202-4dab-99a9-25e268fe3d64",
        "collapsed": true
      },
      "execution_count": 74,
      "outputs": [
        {
          "output_type": "execute_result",
          "data": {
            "text/plain": [
              "('15:44', '18:55', '382')"
            ]
          },
          "metadata": {},
          "execution_count": 74
        }
      ]
    },
    {
      "cell_type": "code",
      "source": [
        "#criando uma função para leitura do arquivo flights.txt - Arquivo contendo os dados dos voos!!\n",
        "voos = {}#definindo no formato de dicionario!!!\n",
        "for linha in open('/content/flights.txt'):\n",
        "  #print(linha)\n",
        "  #print(linha.split(','))\n",
        "  #criando as variaveis para cada possição da nossa lista/ e passando o valor das possições!!\n",
        "  origem, destino, partida, chegada, preco = linha.split(',')\n",
        "  #impromir possoções para teste!!\n",
        "  #print(origem, destino, partida, chegada, preco)\n",
        "#passando os valores de origem e destino, e atribuindo eles ao dicionario sem atribuir os valores !!\n",
        "  voos.setdefault((origem, destino), [])\n",
        "#adicionar os dados de partida, chegada e preco\n",
        "  voos[(origem, destino)].append((partida, chegada, int(preco)))#realizar a conversao do preço em int, e deixar em formato tupla os dados"
      ],
      "metadata": {
        "id": "1rb25IC-O2gZ"
      },
      "execution_count": 75,
      "outputs": []
    },
    {
      "cell_type": "code",
      "source": [
        "voos"
      ],
      "metadata": {
        "colab": {
          "base_uri": "https://localhost:8080/"
        },
        "id": "0FTSQ56XRvD5",
        "outputId": "72ead47b-16a4-4530-c64a-e5630e672adc"
      },
      "execution_count": 76,
      "outputs": [
        {
          "output_type": "execute_result",
          "data": {
            "text/plain": [
              "{('FCO', 'LIS'): [('6:19', '8:13', 239),\n",
              "  ('8:04', '10:59', 136),\n",
              "  ('9:31', '11:43', 210),\n",
              "  ('11:07', '13:24', 171),\n",
              "  ('12:31', '14:02', 234),\n",
              "  ('14:05', '15:47', 226),\n",
              "  ('15:07', '17:21', 129),\n",
              "  ('16:35', '18:56', 144),\n",
              "  ('18:25', '20:34', 205),\n",
              "  ('20:05', '21:44', 172)],\n",
              " ('LIS', 'FCO'): [('6:11', '8:31', 249),\n",
              "  ('7:39', '10:24', 219),\n",
              "  ('9:15', '12:03', 99),\n",
              "  ('11:08', '13:07', 175),\n",
              "  ('12:18', '14:56', 172),\n",
              "  ('13:37', '15:08', 250),\n",
              "  ('15:03', '16:42', 135),\n",
              "  ('16:51', '19:09', 147),\n",
              "  ('18:12', '20:17', 242),\n",
              "  ('20:05', '22:06', 261)],\n",
              " ('FCO', 'MAD'): [('6:03', '8:43', 219),\n",
              "  ('7:50', '10:08', 164),\n",
              "  ('9:11', '10:42', 172),\n",
              "  ('10:33', '13:11', 132),\n",
              "  ('12:08', '14:47', 231),\n",
              "  ('14:19', '17:09', 190),\n",
              "  ('15:04', '17:23', 189),\n",
              "  ('17:06', '20:00', 95),\n",
              "  ('18:33', '20:22', 143),\n",
              "  ('19:32', '21:25', 160)],\n",
              " ('MAD', 'FCO'): [('6:05', '8:32', 174),\n",
              "  ('8:25', '10:34', 157),\n",
              "  ('9:42', '11:32', 169),\n",
              "  ('11:01', '12:39', 260),\n",
              "  ('12:44', '14:17', 134),\n",
              "  ('14:22', '16:32', 126),\n",
              "  ('15:58', '18:40', 173),\n",
              "  ('16:43', '19:00', 246),\n",
              "  ('18:48', '21:45', 246),\n",
              "  ('19:50', '22:24', 269)],\n",
              " ('FCO', 'CDG'): [('6:33', '9:14', 172),\n",
              "  ('8:23', '11:07', 143),\n",
              "  ('9:25', '12:46', 295),\n",
              "  ('11:08', '14:38', 262),\n",
              "  ('12:37', '15:05', 170),\n",
              "  ('14:08', '16:09', 232),\n",
              "  ('15:23', '18:49', 150),\n",
              "  ('16:50', '19:26', 304),\n",
              "  ('18:07', '21:30', 355),\n",
              "  ('20:27', '23:42', 169)],\n",
              " ('CDG', 'FCO'): [('6:25', '9:30', 335),\n",
              "  ('7:34', '9:40', 324),\n",
              "  ('9:15', '12:29', 225),\n",
              "  ('11:28', '14:40', 248),\n",
              "  ('12:05', '15:30', 330),\n",
              "  ('14:01', '17:24', 338),\n",
              "  ('15:34', '18:11', 326),\n",
              "  ('17:07', '20:04', 291),\n",
              "  ('18:23', '21:35', 134),\n",
              "  ('19:53', '22:21', 173)],\n",
              " ('FCO', 'DUB'): [('6:39', '8:09', 86),\n",
              "  ('8:23', '10:28', 149),\n",
              "  ('9:58', '11:18', 130),\n",
              "  ('10:33', '12:03', 74),\n",
              "  ('12:08', '14:05', 142),\n",
              "  ('13:39', '15:30', 74),\n",
              "  ('15:25', '16:58', 62),\n",
              "  ('17:03', '18:03', 103),\n",
              "  ('18:24', '20:49', 124),\n",
              "  ('19:58', '21:23', 142)],\n",
              " ('DUB', 'FCO'): [('6:17', '8:26', 89),\n",
              "  ('8:04', '10:11', 95),\n",
              "  ('9:45', '11:50', 172),\n",
              "  ('11:16', '13:29', 83),\n",
              "  ('12:34', '15:02', 109),\n",
              "  ('13:40', '15:37', 138),\n",
              "  ('15:27', '17:18', 151),\n",
              "  ('17:11', '18:30', 108),\n",
              "  ('18:34', '19:36', 136),\n",
              "  ('20:17', '22:22', 102)],\n",
              " ('FCO', 'BRU'): [('6:09', '9:49', 414),\n",
              "  ('7:57', '11:15', 347),\n",
              "  ('9:49', '13:51', 229),\n",
              "  ('10:51', '14:16', 256),\n",
              "  ('12:20', '16:34', 500),\n",
              "  ('14:20', '17:32', 332),\n",
              "  ('15:49', '20:10', 497),\n",
              "  ('17:14', '20:59', 277),\n",
              "  ('18:44', '22:42', 351),\n",
              "  ('19:57', '23:15', 512)],\n",
              " ('BRU', 'FCO'): [('6:12', '10:22', 230),\n",
              "  ('7:53', '11:37', 433),\n",
              "  ('9:08', '12:12', 364),\n",
              "  ('10:30', '14:57', 290),\n",
              "  ('12:19', '15:25', 342),\n",
              "  ('13:54', '18:02', 294),\n",
              "  ('15:44', '18:55', 382),\n",
              "  ('16:52', '20:48', 448),\n",
              "  ('18:26', '21:29', 464),\n",
              "  ('20:07', '23:27', 473)],\n",
              " ('FCO', 'LHR'): [('6:58', '9:01', 238),\n",
              "  ('8:19', '11:16', 122),\n",
              "  ('9:58', '12:56', 249),\n",
              "  ('10:32', '13:16', 139),\n",
              "  ('12:01', '13:41', 267),\n",
              "  ('13:37', '15:33', 142),\n",
              "  ('15:50', '18:45', 243),\n",
              "  ('16:33', '18:15', 253),\n",
              "  ('18:17', '21:04', 259),\n",
              "  ('19:46', '21:45', 214)],\n",
              " ('LHR', 'FCO'): [('6:08', '8:06', 224),\n",
              "  ('8:27', '10:45', 139),\n",
              "  ('9:15', '12:14', 247),\n",
              "  ('10:53', '13:36', 189),\n",
              "  ('12:08', '14:59', 149),\n",
              "  ('13:40', '15:38', 137),\n",
              "  ('15:23', '17:25', 232),\n",
              "  ('17:08', '19:08', 262),\n",
              "  ('18:35', '20:28', 204),\n",
              "  ('20:30', '23:11', 114)]}"
            ]
          },
          "metadata": {},
          "execution_count": 76
        }
      ]
    },
    {
      "cell_type": "code",
      "source": [
        "#Checando os voos de LISBOA para ROMA!! + Preços! IDA\n",
        "voos [('LIS', 'FCO')]"
      ],
      "metadata": {
        "colab": {
          "base_uri": "https://localhost:8080/"
        },
        "id": "ZQoy1MI2UMs6",
        "outputId": "dab7bf59-9b81-4037-bb83-ca4e380c33ad"
      },
      "execution_count": 77,
      "outputs": [
        {
          "output_type": "execute_result",
          "data": {
            "text/plain": [
              "[('6:11', '8:31', 249),\n",
              " ('7:39', '10:24', 219),\n",
              " ('9:15', '12:03', 99),\n",
              " ('11:08', '13:07', 175),\n",
              " ('12:18', '14:56', 172),\n",
              " ('13:37', '15:08', 250),\n",
              " ('15:03', '16:42', 135),\n",
              " ('16:51', '19:09', 147),\n",
              " ('18:12', '20:17', 242),\n",
              " ('20:05', '22:06', 261)]"
            ]
          },
          "metadata": {},
          "execution_count": 77
        }
      ]
    },
    {
      "cell_type": "code",
      "source": [
        "#Checando os voos de ROMA para LISBOA! + Preço! Volta\n",
        "voos [('FCO','LIS')]"
      ],
      "metadata": {
        "colab": {
          "base_uri": "https://localhost:8080/"
        },
        "id": "eK2TPTSyU4wu",
        "outputId": "841f4bc6-c64e-427c-d544-e9ebb3610d0d"
      },
      "execution_count": 78,
      "outputs": [
        {
          "output_type": "execute_result",
          "data": {
            "text/plain": [
              "[('6:19', '8:13', 239),\n",
              " ('8:04', '10:59', 136),\n",
              " ('9:31', '11:43', 210),\n",
              " ('11:07', '13:24', 171),\n",
              " ('12:31', '14:02', 234),\n",
              " ('14:05', '15:47', 226),\n",
              " ('15:07', '17:21', 129),\n",
              " ('16:35', '18:56', 144),\n",
              " ('18:25', '20:34', 205),\n",
              " ('20:05', '21:44', 172)]"
            ]
          },
          "metadata": {},
          "execution_count": 78
        }
      ]
    },
    {
      "cell_type": "code",
      "source": [
        "#[1,4, 3,2, 7,3, 6,3, 2,4, 5,3]"
      ],
      "metadata": {
        "id": "JM6wCwFPxNPw"
      },
      "execution_count": 79,
      "outputs": []
    },
    {
      "cell_type": "code",
      "source": [
        "len([1,4, 3,2, 7,3, 6,3, 2,4, 5,3])"
      ],
      "metadata": {
        "colab": {
          "base_uri": "https://localhost:8080/"
        },
        "id": "E3eic9o9w-hT",
        "outputId": "a36ae05b-bc56-4226-cd3b-8be7bef63623"
      },
      "execution_count": 80,
      "outputs": [
        {
          "output_type": "execute_result",
          "data": {
            "text/plain": [
              "12"
            ]
          },
          "metadata": {},
          "execution_count": 80
        }
      ]
    },
    {
      "cell_type": "code",
      "source": [
        "len([1,4, 3,2, 7,3, 6,3, 2,4, 5,3]) // 2"
      ],
      "metadata": {
        "colab": {
          "base_uri": "https://localhost:8080/"
        },
        "id": "8MDAmE-SxicL",
        "outputId": "5177a31d-340f-486a-9d7c-267f4647a34f"
      },
      "execution_count": 81,
      "outputs": [
        {
          "output_type": "execute_result",
          "data": {
            "text/plain": [
              "6"
            ]
          },
          "metadata": {},
          "execution_count": 81
        }
      ]
    },
    {
      "cell_type": "code",
      "source": [
        "def imprime_calendario(calendario):\n",
        "  voo_id = -1\n",
        "  preco_total = 0\n",
        "  for i in range(len(calendario) // 2):\n",
        "    nome = pessoas[i][0]\n",
        "    #print(nome)\n",
        "    origem = pessoas[i][1]\n",
        "    #print(origem)#vai imprimir as ciglas\n",
        "    voo_id += 1 #vai ser usada para percorrer as sessoes\n",
        "    voo_ida = voos[(origem, destino)] [calendario[voo_id]]#colocamos um filtro utilizando o parametro '[]', para filtrar por ID\n",
        "    #print(voo_ida)\n",
        "    preco_total += voo_ida[2]\n",
        "    #Buscando os voos de volta\n",
        "    voo_id =+ 1\n",
        "    voo_volta = voos[(destino, origem)][calendario[voo_id]]\n",
        "    preco_total += voo_volta[2]\n",
        "    #print a baixo, com os caracter serve para tabular a minhas informações, para facilitar a visualização\n",
        "    print('%10s%10s %5s-%5s U$%3s %5s-%5s U$%3s' % (nome, origem, voo_ida[0], voo_ida[1], voo_ida[2],\n",
        "                                                    voo_volta[0], voo_volta[1], voo_volta[2]))\n",
        "  print('Preço Total: ', preco_total)"
      ],
      "metadata": {
        "id": "-yU-Jq1dvmr_"
      },
      "execution_count": 82,
      "outputs": []
    },
    {
      "cell_type": "code",
      "source": [
        "imprime_calendario([1,5, 3,2, 7,3, 6,3, 2,4, 5,3])"
      ],
      "metadata": {
        "id": "7xP4tDk90Zc-",
        "outputId": "11b38cb6-80ac-4b47-af05-d68b5d3c48c2",
        "colab": {
          "base_uri": "https://localhost:8080/"
        }
      },
      "execution_count": 83,
      "outputs": [
        {
          "output_type": "stream",
          "name": "stdout",
          "text": [
            "    Lisbon       LIS  7:39-10:24 U$219 14:05-15:47 U$226\n",
            "    Madrid       MAD 11:01-12:39 U$260 14:19-17:09 U$190\n",
            "     Paris       CDG 11:28-14:40 U$248 14:08-16:09 U$232\n",
            "    Dublin       DUB 11:16-13:29 U$ 83 13:39-15:30 U$ 74\n",
            "  Brussels       BRU 10:30-14:57 U$290 14:20-17:32 U$332\n",
            "    London       LHR 10:53-13:36 U$189 13:37-15:33 U$142\n",
            "Preço Total:  2485\n"
          ]
        }
      ]
    },
    {
      "cell_type": "code",
      "source": [
        "7 * 60 + 39, 13 * 60 + 37, 817 - 459"
      ],
      "metadata": {
        "colab": {
          "base_uri": "https://localhost:8080/"
        },
        "id": "qp9MtxUiJfdG",
        "outputId": "2d64a2b6-2b6f-4a20-8da9-d8f3655cb020"
      },
      "execution_count": 84,
      "outputs": [
        {
          "output_type": "execute_result",
          "data": {
            "text/plain": [
              "(459, 817, 358)"
            ]
          },
          "metadata": {},
          "execution_count": 84
        }
      ]
    },
    {
      "cell_type": "code",
      "source": [
        "t = time.strptime('7:39', '%H:%M')#FORMATAÇÃO DA HORA, USANDO A FUNÇÃO TIME.STRPTIME\n",
        "#('7:39', '%H:%M')\n",
        "# Conventendo em Homra %H e Minuto %M"
      ],
      "metadata": {
        "id": "yqWoESB1MLCO"
      },
      "execution_count": 85,
      "outputs": []
    },
    {
      "cell_type": "markdown",
      "source": [],
      "metadata": {
        "id": "TIOhHQzSMvDE"
      }
    },
    {
      "cell_type": "code",
      "source": [
        "t"
      ],
      "metadata": {
        "colab": {
          "base_uri": "https://localhost:8080/"
        },
        "id": "Tvq-tA1KMe9s",
        "outputId": "7e87d8b4-2380-44ea-f7d3-6f9a5164623b"
      },
      "execution_count": 86,
      "outputs": [
        {
          "output_type": "execute_result",
          "data": {
            "text/plain": [
              "time.struct_time(tm_year=1900, tm_mon=1, tm_mday=1, tm_hour=7, tm_min=39, tm_sec=0, tm_wday=0, tm_yday=1, tm_isdst=-1)"
            ]
          },
          "metadata": {},
          "execution_count": 86
        }
      ]
    },
    {
      "cell_type": "code",
      "source": [
        "t [3], t[4], t[3] * 60 + t[4]\n",
        "#AO UTILIZAR A FUNÇÃO TIME.STRPTIME, POSSO ACESSAR CADA DADO DE NOSSO ARAY, EM SUA RESPECTIVA POSSIÇÃO. INICIANDO EM [0], E PERCORRENDO CADA POSSIÇÃO\n",
        "#LOGO A POIS, POSSO REALIZAR A MULTIPLICAÇÃO DOS DADOS , PARA ENCONTRAR O MINUTO NA HORA, DEPOIS SOMAR PELOS MINUTOS RESTANTES!!!"
      ],
      "metadata": {
        "colab": {
          "base_uri": "https://localhost:8080/"
        },
        "id": "NhmJ0JfTM9rS",
        "outputId": "52f57e6f-713b-44d4-90c8-d06599326c1f"
      },
      "execution_count": 87,
      "outputs": [
        {
          "output_type": "execute_result",
          "data": {
            "text/plain": [
              "(7, 39, 459)"
            ]
          },
          "metadata": {},
          "execution_count": 87
        }
      ]
    },
    {
      "cell_type": "code",
      "source": [
        "#CRIANDO A FUNÇÃO PARA CALCULAR !!!\n",
        "\n",
        "def get_minutos(hora):\n",
        "  t = time.strptime(hora, '%H:%M')\n",
        "  minutos = t[3] * 60 + t[4]\n",
        "  return minutos"
      ],
      "metadata": {
        "id": "CWWIthj6Nzm9"
      },
      "execution_count": 88,
      "outputs": []
    },
    {
      "cell_type": "code",
      "source": [
        "get_minutos('7:39'), get_minutos('13:37')"
      ],
      "metadata": {
        "colab": {
          "base_uri": "https://localhost:8080/"
        },
        "id": "hSVQJrAWOfHe",
        "outputId": "87b49a65-9e7b-449a-abd5-d718c2d11885"
      },
      "execution_count": 89,
      "outputs": [
        {
          "output_type": "execute_result",
          "data": {
            "text/plain": [
              "(459, 817)"
            ]
          },
          "metadata": {},
          "execution_count": 89
        }
      ]
    },
    {
      "cell_type": "code",
      "source": [
        "get_minutos('23:59')"
      ],
      "metadata": {
        "colab": {
          "base_uri": "https://localhost:8080/"
        },
        "id": "pE6KwE1qtrZg",
        "outputId": "ec45cf04-bdff-4c40-8fc4-19dfe651ac46"
      },
      "execution_count": 90,
      "outputs": [
        {
          "output_type": "execute_result",
          "data": {
            "text/plain": [
              "1439"
            ]
          },
          "metadata": {},
          "execution_count": 90
        }
      ]
    },
    {
      "cell_type": "code",
      "source": [],
      "metadata": {
        "id": "I4SBWqwowe7f"
      },
      "execution_count": 90,
      "outputs": []
    },
    {
      "cell_type": "markdown",
      "source": [
        "FUNÇÃO DE AVALIAÇÃO DOS NOSSOS DADOS"
      ],
      "metadata": {
        "id": "29BMvmb0xfjd"
      }
    },
    {
      "cell_type": "code",
      "source": [
        "#função para avaliar os dados [], correlacionados a lista de voos que foi gerada na primeira parte.. Será percorridos os dados para analisar o melhor percurso!!\n",
        "def funcao_avaliacao(calendario):\n",
        "  preco_total = 0\n",
        "  ultima_chegada = 0\n",
        "  primeira_partida = 1439 #ultimos minutos!!\n",
        "\n",
        "  voo_id = -1\n",
        "  for i in range(len(calendario) //2 ):\n",
        "    origem = pessoas[i][1]\n",
        "    voo_id += 1\n",
        "    voo_ida = voos[(origem, destino)][calendario[voo_id]]\n",
        "    voo_id += 1\n",
        "    voo_volta = voos[(destino, origem)][calendario[voo_id]]\n",
        "\n",
        "    preco_total += voo_ida[2]\n",
        "    preco_total += voo_volta[2]\n",
        "\n",
        "    if ultima_chegada < get_minutos(voo_ida[1]):\n",
        "      ultima\n",
        "\n",
        "\n",
        "    print(preco_total)\n"
      ],
      "metadata": {
        "id": "CkoGsanhwfb4"
      },
      "execution_count": 96,
      "outputs": []
    },
    {
      "cell_type": "code",
      "source": [
        "funcao_avaliacao([1,5, 3,2, 7,3, 6,3, 2,4, 5,3])"
      ],
      "metadata": {
        "colab": {
          "base_uri": "https://localhost:8080/"
        },
        "id": "MCxMzX4Evty7",
        "outputId": "79d6fa24-2e51-481f-f6e4-b3b9e9e9f393"
      },
      "execution_count": 97,
      "outputs": [
        {
          "output_type": "stream",
          "name": "stdout",
          "text": [
            "445\n",
            "877\n",
            "1430\n",
            "1655\n",
            "2519\n",
            "2795\n"
          ]
        }
      ]
    }
  ]
}