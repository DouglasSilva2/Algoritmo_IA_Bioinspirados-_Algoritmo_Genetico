{
  "nbformat": 4,
  "nbformat_minor": 0,
  "metadata": {
    "colab": {
      "provenance": [],
      "authorship_tag": "ABX9TyNZIXfw0J/obU6lZddFHhtZ"
    },
    "kernelspec": {
      "name": "python3",
      "display_name": "Python 3"
    },
    "language_info": {
      "name": "python"
    }
  },
  "cells": [
    {
      "cell_type": "markdown",
      "source": [
        "ALGORITMOS DE INTELIGENCIA ARTIFICIAL BIOINSPIRADOS - ALGORITMOS GENETICOS"
      ],
      "metadata": {
        "id": "yiPAxzYtu7zw"
      }
    },
    {
      "cell_type": "markdown",
      "source": [
        "Representação do problema - calendarios de voos"
      ],
      "metadata": {
        "id": "3Aa5rKmev6-W"
      }
    },
    {
      "cell_type": "code",
      "execution_count": 99,
      "metadata": {
        "id": "iUk8DNoOuytg"
      },
      "outputs": [],
      "source": [
        "import time #para data e horas\n",
        "import random # biblioteca rondomica\n",
        "import math # para recursos matematicos\n",
        "import sys\n"
      ]
    },
    {
      "cell_type": "code",
      "source": [
        "pessoas = [('Lisbon', 'LIS'),\n",
        "           ('Madrid', 'MAD'),\n",
        "           ('Paris', 'CDG'),\n",
        "           ('Dublin', 'DUB'),\n",
        "           ('Brussels', 'BRU'),\n",
        "           ('London', 'LHR')]"
      ],
      "metadata": {
        "id": "HB2i9KdMwQ13"
      },
      "execution_count": 100,
      "outputs": []
    },
    {
      "cell_type": "code",
      "source": [
        "pessoas [5] # formato em tupla"
      ],
      "metadata": {
        "colab": {
          "base_uri": "https://localhost:8080/"
        },
        "id": "jBKAjOSoxBkX",
        "outputId": "4130d0e7-2abf-4f8e-eea2-231d88fe523e"
      },
      "execution_count": 101,
      "outputs": [
        {
          "output_type": "execute_result",
          "data": {
            "text/plain": [
              "('London', 'LHR')"
            ]
          },
          "metadata": {},
          "execution_count": 101
        }
      ]
    },
    {
      "cell_type": "code",
      "source": [
        "destino = 'FCO' #Destino eh Roma"
      ],
      "metadata": {
        "id": "bCUFPJM7xOMS"
      },
      "execution_count": 102,
      "outputs": []
    },
    {
      "cell_type": "markdown",
      "source": [],
      "metadata": {
        "id": "olll68z8L_0K"
      }
    },
    {
      "cell_type": "code",
      "source": [
        "#estrutura de dados em formato tupla\n",
        "voos = {('BRU', 'FCO'): ['15:44', '18:55', '382']}"
      ],
      "metadata": {
        "id": "Rs2RQk14LIUB"
      },
      "execution_count": 103,
      "outputs": []
    },
    {
      "cell_type": "code",
      "source": [
        "voos #acessando a variavel"
      ],
      "metadata": {
        "colab": {
          "base_uri": "https://localhost:8080/"
        },
        "id": "1UfOXUraMOzn",
        "outputId": "cd2bd17d-82fb-4ca5-a5c3-2163f7ba30c3"
      },
      "execution_count": 104,
      "outputs": [
        {
          "output_type": "execute_result",
          "data": {
            "text/plain": [
              "{('BRU', 'FCO'): ['15:44', '18:55', '382']}"
            ]
          },
          "metadata": {},
          "execution_count": 104
        }
      ]
    },
    {
      "cell_type": "code",
      "source": [
        "voos [('BRU', 'FCO')]"
      ],
      "metadata": {
        "colab": {
          "base_uri": "https://localhost:8080/"
        },
        "id": "nElxfKBzNFVf",
        "outputId": "bfc072f0-3a34-4a43-95ba-fa675adb199b"
      },
      "execution_count": 105,
      "outputs": [
        {
          "output_type": "execute_result",
          "data": {
            "text/plain": [
              "['15:44', '18:55', '382']"
            ]
          },
          "metadata": {},
          "execution_count": 105
        }
      ]
    },
    {
      "cell_type": "code",
      "source": [
        "#Teste de acesso aos dados nas suas respectivas posições\n",
        "voos [('BRU', 'FCO')][0], voos[('BRU','FCO')][1], voos [('BRU', 'FCO')][2]"
      ],
      "metadata": {
        "colab": {
          "base_uri": "https://localhost:8080/"
        },
        "id": "pdR7Q6ztOIky",
        "outputId": "e71d6a6b-74a4-4353-e062-613ba09a7bab",
        "collapsed": true
      },
      "execution_count": 106,
      "outputs": [
        {
          "output_type": "execute_result",
          "data": {
            "text/plain": [
              "('15:44', '18:55', '382')"
            ]
          },
          "metadata": {},
          "execution_count": 106
        }
      ]
    },
    {
      "cell_type": "code",
      "source": [
        "#criando uma função para leitura do arquivo flights.txt - Arquivo contendo os dados dos voos!!\n",
        "voos = {}#definindo no formato de dicionario!!!\n",
        "for linha in open('/content/flights.txt'):\n",
        "  #print(linha)\n",
        "  #print(linha.split(','))\n",
        "  #criando as variaveis para cada possição da nossa lista/ e passando o valor das possições!!\n",
        "  origem, destino, partida, chegada, preco = linha.split(',')\n",
        "  #impromir possoções para teste!!\n",
        "  #print(origem, destino, partida, chegada, preco)\n",
        "#passando os valores de origem e destino, e atribuindo eles ao dicionario sem atribuir os valores !!\n",
        "  voos.setdefault((origem, destino), [])\n",
        "#adicionar os dados de partida, chegada e preco\n",
        "  voos[(origem, destino)].append((partida, chegada, int(preco)))#realizar a conversao do preço em int, e deixar em formato tupla os dados"
      ],
      "metadata": {
        "id": "1rb25IC-O2gZ"
      },
      "execution_count": 107,
      "outputs": []
    },
    {
      "cell_type": "code",
      "source": [
        "voos"
      ],
      "metadata": {
        "colab": {
          "base_uri": "https://localhost:8080/"
        },
        "id": "0FTSQ56XRvD5",
        "outputId": "50761434-ca16-4ee5-a407-a6b17d900008"
      },
      "execution_count": 108,
      "outputs": [
        {
          "output_type": "execute_result",
          "data": {
            "text/plain": [
              "{('FCO', 'LIS'): [('6:19', '8:13', 239),\n",
              "  ('8:04', '10:59', 136),\n",
              "  ('9:31', '11:43', 210),\n",
              "  ('11:07', '13:24', 171),\n",
              "  ('12:31', '14:02', 234),\n",
              "  ('14:05', '15:47', 226),\n",
              "  ('15:07', '17:21', 129),\n",
              "  ('16:35', '18:56', 144),\n",
              "  ('18:25', '20:34', 205),\n",
              "  ('20:05', '21:44', 172)],\n",
              " ('LIS', 'FCO'): [('6:11', '8:31', 249),\n",
              "  ('7:39', '10:24', 219),\n",
              "  ('9:15', '12:03', 99),\n",
              "  ('11:08', '13:07', 175),\n",
              "  ('12:18', '14:56', 172),\n",
              "  ('13:37', '15:08', 250),\n",
              "  ('15:03', '16:42', 135),\n",
              "  ('16:51', '19:09', 147),\n",
              "  ('18:12', '20:17', 242),\n",
              "  ('20:05', '22:06', 261)],\n",
              " ('FCO', 'MAD'): [('6:03', '8:43', 219),\n",
              "  ('7:50', '10:08', 164),\n",
              "  ('9:11', '10:42', 172),\n",
              "  ('10:33', '13:11', 132),\n",
              "  ('12:08', '14:47', 231),\n",
              "  ('14:19', '17:09', 190),\n",
              "  ('15:04', '17:23', 189),\n",
              "  ('17:06', '20:00', 95),\n",
              "  ('18:33', '20:22', 143),\n",
              "  ('19:32', '21:25', 160)],\n",
              " ('MAD', 'FCO'): [('6:05', '8:32', 174),\n",
              "  ('8:25', '10:34', 157),\n",
              "  ('9:42', '11:32', 169),\n",
              "  ('11:01', '12:39', 260),\n",
              "  ('12:44', '14:17', 134),\n",
              "  ('14:22', '16:32', 126),\n",
              "  ('15:58', '18:40', 173),\n",
              "  ('16:43', '19:00', 246),\n",
              "  ('18:48', '21:45', 246),\n",
              "  ('19:50', '22:24', 269)],\n",
              " ('FCO', 'CDG'): [('6:33', '9:14', 172),\n",
              "  ('8:23', '11:07', 143),\n",
              "  ('9:25', '12:46', 295),\n",
              "  ('11:08', '14:38', 262),\n",
              "  ('12:37', '15:05', 170),\n",
              "  ('14:08', '16:09', 232),\n",
              "  ('15:23', '18:49', 150),\n",
              "  ('16:50', '19:26', 304),\n",
              "  ('18:07', '21:30', 355),\n",
              "  ('20:27', '23:42', 169)],\n",
              " ('CDG', 'FCO'): [('6:25', '9:30', 335),\n",
              "  ('7:34', '9:40', 324),\n",
              "  ('9:15', '12:29', 225),\n",
              "  ('11:28', '14:40', 248),\n",
              "  ('12:05', '15:30', 330),\n",
              "  ('14:01', '17:24', 338),\n",
              "  ('15:34', '18:11', 326),\n",
              "  ('17:07', '20:04', 291),\n",
              "  ('18:23', '21:35', 134),\n",
              "  ('19:53', '22:21', 173)],\n",
              " ('FCO', 'DUB'): [('6:39', '8:09', 86),\n",
              "  ('8:23', '10:28', 149),\n",
              "  ('9:58', '11:18', 130),\n",
              "  ('10:33', '12:03', 74),\n",
              "  ('12:08', '14:05', 142),\n",
              "  ('13:39', '15:30', 74),\n",
              "  ('15:25', '16:58', 62),\n",
              "  ('17:03', '18:03', 103),\n",
              "  ('18:24', '20:49', 124),\n",
              "  ('19:58', '21:23', 142)],\n",
              " ('DUB', 'FCO'): [('6:17', '8:26', 89),\n",
              "  ('8:04', '10:11', 95),\n",
              "  ('9:45', '11:50', 172),\n",
              "  ('11:16', '13:29', 83),\n",
              "  ('12:34', '15:02', 109),\n",
              "  ('13:40', '15:37', 138),\n",
              "  ('15:27', '17:18', 151),\n",
              "  ('17:11', '18:30', 108),\n",
              "  ('18:34', '19:36', 136),\n",
              "  ('20:17', '22:22', 102)],\n",
              " ('FCO', 'BRU'): [('6:09', '9:49', 414),\n",
              "  ('7:57', '11:15', 347),\n",
              "  ('9:49', '13:51', 229),\n",
              "  ('10:51', '14:16', 256),\n",
              "  ('12:20', '16:34', 500),\n",
              "  ('14:20', '17:32', 332),\n",
              "  ('15:49', '20:10', 497),\n",
              "  ('17:14', '20:59', 277),\n",
              "  ('18:44', '22:42', 351),\n",
              "  ('19:57', '23:15', 512)],\n",
              " ('BRU', 'FCO'): [('6:12', '10:22', 230),\n",
              "  ('7:53', '11:37', 433),\n",
              "  ('9:08', '12:12', 364),\n",
              "  ('10:30', '14:57', 290),\n",
              "  ('12:19', '15:25', 342),\n",
              "  ('13:54', '18:02', 294),\n",
              "  ('15:44', '18:55', 382),\n",
              "  ('16:52', '20:48', 448),\n",
              "  ('18:26', '21:29', 464),\n",
              "  ('20:07', '23:27', 473)],\n",
              " ('FCO', 'LHR'): [('6:58', '9:01', 238),\n",
              "  ('8:19', '11:16', 122),\n",
              "  ('9:58', '12:56', 249),\n",
              "  ('10:32', '13:16', 139),\n",
              "  ('12:01', '13:41', 267),\n",
              "  ('13:37', '15:33', 142),\n",
              "  ('15:50', '18:45', 243),\n",
              "  ('16:33', '18:15', 253),\n",
              "  ('18:17', '21:04', 259),\n",
              "  ('19:46', '21:45', 214)],\n",
              " ('LHR', 'FCO'): [('6:08', '8:06', 224),\n",
              "  ('8:27', '10:45', 139),\n",
              "  ('9:15', '12:14', 247),\n",
              "  ('10:53', '13:36', 189),\n",
              "  ('12:08', '14:59', 149),\n",
              "  ('13:40', '15:38', 137),\n",
              "  ('15:23', '17:25', 232),\n",
              "  ('17:08', '19:08', 262),\n",
              "  ('18:35', '20:28', 204),\n",
              "  ('20:30', '23:11', 114)]}"
            ]
          },
          "metadata": {},
          "execution_count": 108
        }
      ]
    },
    {
      "cell_type": "code",
      "source": [
        "#Checando os voos de LISBOA para ROMA!! + Preços! IDA\n",
        "voos [('LIS', 'FCO')]"
      ],
      "metadata": {
        "colab": {
          "base_uri": "https://localhost:8080/"
        },
        "id": "ZQoy1MI2UMs6",
        "outputId": "3e671d3d-d085-4d27-d777-76d7cf02fc55"
      },
      "execution_count": 109,
      "outputs": [
        {
          "output_type": "execute_result",
          "data": {
            "text/plain": [
              "[('6:11', '8:31', 249),\n",
              " ('7:39', '10:24', 219),\n",
              " ('9:15', '12:03', 99),\n",
              " ('11:08', '13:07', 175),\n",
              " ('12:18', '14:56', 172),\n",
              " ('13:37', '15:08', 250),\n",
              " ('15:03', '16:42', 135),\n",
              " ('16:51', '19:09', 147),\n",
              " ('18:12', '20:17', 242),\n",
              " ('20:05', '22:06', 261)]"
            ]
          },
          "metadata": {},
          "execution_count": 109
        }
      ]
    },
    {
      "cell_type": "code",
      "source": [
        "#Checando os voos de ROMA para LISBOA! + Preço! Volta\n",
        "voos [('FCO','LIS')]"
      ],
      "metadata": {
        "colab": {
          "base_uri": "https://localhost:8080/"
        },
        "id": "eK2TPTSyU4wu",
        "outputId": "e0d4a71c-d0fb-4e47-ad92-6259ea1e5457"
      },
      "execution_count": 110,
      "outputs": [
        {
          "output_type": "execute_result",
          "data": {
            "text/plain": [
              "[('6:19', '8:13', 239),\n",
              " ('8:04', '10:59', 136),\n",
              " ('9:31', '11:43', 210),\n",
              " ('11:07', '13:24', 171),\n",
              " ('12:31', '14:02', 234),\n",
              " ('14:05', '15:47', 226),\n",
              " ('15:07', '17:21', 129),\n",
              " ('16:35', '18:56', 144),\n",
              " ('18:25', '20:34', 205),\n",
              " ('20:05', '21:44', 172)]"
            ]
          },
          "metadata": {},
          "execution_count": 110
        }
      ]
    },
    {
      "cell_type": "code",
      "source": [
        "#[1,4, 3,2, 7,3, 6,3, 2,4, 5,3]"
      ],
      "metadata": {
        "id": "JM6wCwFPxNPw"
      },
      "execution_count": 111,
      "outputs": []
    },
    {
      "cell_type": "code",
      "source": [
        "len([1,4, 3,2, 7,3, 6,3, 2,4, 5,3])"
      ],
      "metadata": {
        "colab": {
          "base_uri": "https://localhost:8080/"
        },
        "id": "E3eic9o9w-hT",
        "outputId": "4571c7b8-6977-4e1a-e492-8818c4669407"
      },
      "execution_count": 112,
      "outputs": [
        {
          "output_type": "execute_result",
          "data": {
            "text/plain": [
              "12"
            ]
          },
          "metadata": {},
          "execution_count": 112
        }
      ]
    },
    {
      "cell_type": "code",
      "source": [
        "len([1,4, 3,2, 7,3, 6,3, 2,4, 5,3]) // 2"
      ],
      "metadata": {
        "colab": {
          "base_uri": "https://localhost:8080/"
        },
        "id": "8MDAmE-SxicL",
        "outputId": "3cc31415-f0ea-4b0d-85c7-baf5ce7dbb2b"
      },
      "execution_count": 113,
      "outputs": [
        {
          "output_type": "execute_result",
          "data": {
            "text/plain": [
              "6"
            ]
          },
          "metadata": {},
          "execution_count": 113
        }
      ]
    },
    {
      "cell_type": "code",
      "source": [
        "def imprime_calendario(calendario):\n",
        "  voo_id = -1\n",
        "  preco_total = 0\n",
        "  for i in range(len(calendario) // 2):\n",
        "    nome = pessoas[i][0]\n",
        "    #print(nome)\n",
        "    origem = pessoas[i][1]\n",
        "    #print(origem)#vai imprimir as ciglas\n",
        "    voo_id += 1 #vai ser usada para percorrer as sessoes\n",
        "    voo_ida = voos[(origem, destino)] [calendario[voo_id]]#colocamos um filtro utilizando o parametro '[]', para filtrar por ID\n",
        "    #print(voo_ida)\n",
        "    preco_total += voo_ida[2]\n",
        "    #Buscando os voos de volta\n",
        "    voo_id =+ 1\n",
        "    voo_volta = voos[(destino, origem)][calendario[voo_id]]\n",
        "    preco_total += voo_volta[2]\n",
        "    #print a baixo, com os caracter serve para tabular a minhas informações, para facilitar a visualização\n",
        "    print('%10s%10s %5s-%5s U$%3s %5s-%5s U$%3s' % (nome, origem, voo_ida[0], voo_ida[1], voo_ida[2],\n",
        "                                                    voo_volta[0], voo_volta[1], voo_volta[2]))\n",
        "  print('Preço Total: ', preco_total)"
      ],
      "metadata": {
        "id": "-yU-Jq1dvmr_"
      },
      "execution_count": 114,
      "outputs": []
    },
    {
      "cell_type": "code",
      "source": [
        "imprime_calendario([1,5, 3,2, 7,3, 6,3, 2,4, 5,3])"
      ],
      "metadata": {
        "id": "7xP4tDk90Zc-",
        "outputId": "5154d157-c701-4efb-8019-2bbb5fa4cbc9",
        "colab": {
          "base_uri": "https://localhost:8080/"
        }
      },
      "execution_count": 115,
      "outputs": [
        {
          "output_type": "stream",
          "name": "stdout",
          "text": [
            "    Lisbon       LIS  7:39-10:24 U$219 14:05-15:47 U$226\n",
            "    Madrid       MAD 11:01-12:39 U$260 14:19-17:09 U$190\n",
            "     Paris       CDG 11:28-14:40 U$248 14:08-16:09 U$232\n",
            "    Dublin       DUB 11:16-13:29 U$ 83 13:39-15:30 U$ 74\n",
            "  Brussels       BRU 10:30-14:57 U$290 14:20-17:32 U$332\n",
            "    London       LHR 10:53-13:36 U$189 13:37-15:33 U$142\n",
            "Preço Total:  2485\n"
          ]
        }
      ]
    },
    {
      "cell_type": "code",
      "source": [
        "7 * 60 + 39, 13 * 60 + 37, 817 - 459"
      ],
      "metadata": {
        "colab": {
          "base_uri": "https://localhost:8080/"
        },
        "id": "qp9MtxUiJfdG",
        "outputId": "02376965-fdea-498a-a2cc-5a6d91b4b9c8"
      },
      "execution_count": 116,
      "outputs": [
        {
          "output_type": "execute_result",
          "data": {
            "text/plain": [
              "(459, 817, 358)"
            ]
          },
          "metadata": {},
          "execution_count": 116
        }
      ]
    },
    {
      "cell_type": "code",
      "source": [
        "t = time.strptime('7:39', '%H:%M')#FORMATAÇÃO DA HORA, USANDO A FUNÇÃO TIME.STRPTIME\n",
        "#('7:39', '%H:%M')\n",
        "# Conventendo em Homra %H e Minuto %M"
      ],
      "metadata": {
        "id": "yqWoESB1MLCO"
      },
      "execution_count": 117,
      "outputs": []
    },
    {
      "cell_type": "markdown",
      "source": [],
      "metadata": {
        "id": "TIOhHQzSMvDE"
      }
    },
    {
      "cell_type": "code",
      "source": [
        "t"
      ],
      "metadata": {
        "colab": {
          "base_uri": "https://localhost:8080/"
        },
        "id": "Tvq-tA1KMe9s",
        "outputId": "5fadef5b-39a0-4b6d-c7b4-df916126da84"
      },
      "execution_count": 118,
      "outputs": [
        {
          "output_type": "execute_result",
          "data": {
            "text/plain": [
              "time.struct_time(tm_year=1900, tm_mon=1, tm_mday=1, tm_hour=7, tm_min=39, tm_sec=0, tm_wday=0, tm_yday=1, tm_isdst=-1)"
            ]
          },
          "metadata": {},
          "execution_count": 118
        }
      ]
    },
    {
      "cell_type": "code",
      "source": [
        "t [3], t[4], t[3] * 60 + t[4]\n",
        "#AO UTILIZAR A FUNÇÃO TIME.STRPTIME, POSSO ACESSAR CADA DADO DE NOSSO ARAY, EM SUA RESPECTIVA POSSIÇÃO. INICIANDO EM [0], E PERCORRENDO CADA POSSIÇÃO\n",
        "#LOGO A POIS, POSSO REALIZAR A MULTIPLICAÇÃO DOS DADOS , PARA ENCONTRAR O MINUTO NA HORA, DEPOIS SOMAR PELOS MINUTOS RESTANTES!!!"
      ],
      "metadata": {
        "colab": {
          "base_uri": "https://localhost:8080/"
        },
        "id": "NhmJ0JfTM9rS",
        "outputId": "4ae0135f-35bd-44c6-c1b0-3e01ffb15360"
      },
      "execution_count": 119,
      "outputs": [
        {
          "output_type": "execute_result",
          "data": {
            "text/plain": [
              "(7, 39, 459)"
            ]
          },
          "metadata": {},
          "execution_count": 119
        }
      ]
    },
    {
      "cell_type": "code",
      "source": [
        "#CRIANDO A FUNÇÃO PARA CALCULAR !!!\n",
        "\n",
        "def get_minutos(hora):\n",
        "  t = time.strptime(hora, '%H:%M')\n",
        "  minutos = t[3] * 60 + t[4]\n",
        "  return minutos"
      ],
      "metadata": {
        "id": "CWWIthj6Nzm9"
      },
      "execution_count": 120,
      "outputs": []
    },
    {
      "cell_type": "code",
      "source": [
        "get_minutos('7:39'), get_minutos('13:37')"
      ],
      "metadata": {
        "colab": {
          "base_uri": "https://localhost:8080/"
        },
        "id": "hSVQJrAWOfHe",
        "outputId": "5a073568-24c8-48ad-8bb8-dd238bb9def6"
      },
      "execution_count": 121,
      "outputs": [
        {
          "output_type": "execute_result",
          "data": {
            "text/plain": [
              "(459, 817)"
            ]
          },
          "metadata": {},
          "execution_count": 121
        }
      ]
    },
    {
      "cell_type": "code",
      "source": [
        "get_minutos('23:59')"
      ],
      "metadata": {
        "colab": {
          "base_uri": "https://localhost:8080/"
        },
        "id": "pE6KwE1qtrZg",
        "outputId": "43a8b1a7-7cef-45b7-e343-cfa9990fac1b"
      },
      "execution_count": 122,
      "outputs": [
        {
          "output_type": "execute_result",
          "data": {
            "text/plain": [
              "1439"
            ]
          },
          "metadata": {},
          "execution_count": 122
        }
      ]
    },
    {
      "cell_type": "code",
      "source": [],
      "metadata": {
        "id": "I4SBWqwowe7f"
      },
      "execution_count": 122,
      "outputs": []
    },
    {
      "cell_type": "markdown",
      "source": [
        "FUNÇÃO DE AVALIAÇÃO DOS NOSSOS DADOS"
      ],
      "metadata": {
        "id": "29BMvmb0xfjd"
      }
    },
    {
      "cell_type": "code",
      "source": [
        "#função para avaliar os dados [], correlacionados a lista de voos que foi gerada na primeira parte.. Será percorridos os dados para analisar o melhor percurso!!\n",
        "def funcao_avaliacao(calendario):\n",
        "  preco_total = 0\n",
        "  ultima_chegada = 0\n",
        "  primeira_partida = 1439 #ultimos minutos!!\n",
        "\n",
        "  voo_id = -1\n",
        "  for i in range(len(calendario) //2 ):\n",
        "    origem = pessoas[i][1]\n",
        "    voo_id += 1\n",
        "    voo_ida = voos[(origem, destino)][calendario[voo_id]]\n",
        "    voo_id += 1\n",
        "    voo_volta = voos[(destino, origem)][calendario[voo_id]]\n",
        "\n",
        "    preco_total += voo_ida[2]\n",
        "    preco_total += voo_volta[2]\n",
        "\n",
        "    if ultima_chegada < get_minutos(voo_ida[1]):\n",
        "      ultima_chegada = get_minutos(voo_ida[1])\n",
        "    if primeira_partida > get_minutos(voo_volta[0]):\n",
        "      primeira_partida = get_minutos(voo_volta[0])\n",
        "\n",
        "\n",
        "  print(preco_total)\n",
        "  print(ultima_chegada)\n",
        "  print(primeira_partida)\n"
      ],
      "metadata": {
        "id": "CkoGsanhwfb4"
      },
      "execution_count": 127,
      "outputs": []
    },
    {
      "cell_type": "code",
      "source": [
        "funcao_avaliacao([1,5, 3,2, 7,3, 6,3, 2,4, 5,3])"
      ],
      "metadata": {
        "colab": {
          "base_uri": "https://localhost:8080/"
        },
        "id": "MCxMzX4Evty7",
        "outputId": "50714baa-99e1-4093-897e-4ad434ea02dd"
      },
      "execution_count": 128,
      "outputs": [
        {
          "output_type": "stream",
          "name": "stdout",
          "text": [
            "2795\n",
            "1204\n",
            "551\n"
          ]
        }
      ]
    },
    {
      "cell_type": "code",
      "source": [
        "imprime_calendario([1,5, 3,2, 7,3, 6,3, 2,4, 5,3])"
      ],
      "metadata": {
        "colab": {
          "base_uri": "https://localhost:8080/"
        },
        "id": "XMMfc1ITMPMk",
        "outputId": "9b6b1f5f-f72b-4a01-dbfa-4c1067d9084d"
      },
      "execution_count": 129,
      "outputs": [
        {
          "output_type": "stream",
          "name": "stdout",
          "text": [
            "    Lisbon       LIS  7:39-10:24 U$219 14:05-15:47 U$226\n",
            "    Madrid       MAD 11:01-12:39 U$260 14:19-17:09 U$190\n",
            "     Paris       CDG 11:28-14:40 U$248 14:08-16:09 U$232\n",
            "    Dublin       DUB 11:16-13:29 U$ 83 13:39-15:30 U$ 74\n",
            "  Brussels       BRU 10:30-14:57 U$290 14:20-17:32 U$332\n",
            "    London       LHR 10:53-13:36 U$189 13:37-15:33 U$142\n",
            "Preço Total:  2485\n"
          ]
        }
      ]
    }
  ]
}