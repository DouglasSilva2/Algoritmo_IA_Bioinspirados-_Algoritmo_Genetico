{
  "nbformat": 4,
  "nbformat_minor": 0,
  "metadata": {
    "colab": {
      "provenance": [],
      "authorship_tag": "ABX9TyMYapD6393tMFccOyQIuhuz"
    },
    "kernelspec": {
      "name": "python3",
      "display_name": "Python 3"
    },
    "language_info": {
      "name": "python"
    }
  },
  "cells": [
    {
      "cell_type": "markdown",
      "source": [
        "ALGORITMOS DE INTELIGENCIA ARTIFICIAL BIOINSPIRADOS - ALGORITMOS GENETICOS"
      ],
      "metadata": {
        "id": "yiPAxzYtu7zw"
      }
    },
    {
      "cell_type": "markdown",
      "source": [
        "Representação do problema - calendarios de voos"
      ],
      "metadata": {
        "id": "3Aa5rKmev6-W"
      }
    },
    {
      "cell_type": "code",
      "execution_count": 1,
      "metadata": {
        "id": "iUk8DNoOuytg"
      },
      "outputs": [],
      "source": [
        "import time #para data e horas\n",
        "import random # biblioteca rondomica\n",
        "import math # para recursos matematicos\n",
        "import sys\n"
      ]
    },
    {
      "cell_type": "code",
      "source": [
        "pessoas = [('Lisbon', 'LIS'),\n",
        "           ('Madrid', 'MAD'),\n",
        "           ('Paris', 'CDG'),\n",
        "           ('Dublin', 'DUB'),\n",
        "           ('Brussels', 'BRU'),\n",
        "           ('London', 'LHR')]"
      ],
      "metadata": {
        "id": "HB2i9KdMwQ13"
      },
      "execution_count": 2,
      "outputs": []
    },
    {
      "cell_type": "code",
      "source": [
        "pessoas [5] # formato em tupla"
      ],
      "metadata": {
        "colab": {
          "base_uri": "https://localhost:8080/"
        },
        "id": "jBKAjOSoxBkX",
        "outputId": "97ad3ca4-54b7-407a-d2e6-cb43605de487"
      },
      "execution_count": 5,
      "outputs": [
        {
          "output_type": "execute_result",
          "data": {
            "text/plain": [
              "('London', 'LHR')"
            ]
          },
          "metadata": {},
          "execution_count": 5
        }
      ]
    },
    {
      "cell_type": "code",
      "source": [
        "destino = 'FCO' #Destino eh Roma"
      ],
      "metadata": {
        "id": "bCUFPJM7xOMS"
      },
      "execution_count": 1,
      "outputs": []
    },
    {
      "cell_type": "markdown",
      "source": [],
      "metadata": {
        "id": "olll68z8L_0K"
      }
    },
    {
      "cell_type": "code",
      "source": [
        "#estrutura de dados em formato tupla\n",
        "voos = {('BRU', 'FCO'): ['15:44', '18:55', '382']}"
      ],
      "metadata": {
        "id": "Rs2RQk14LIUB"
      },
      "execution_count": 2,
      "outputs": []
    },
    {
      "cell_type": "code",
      "source": [
        "voos #acessando a variavel"
      ],
      "metadata": {
        "colab": {
          "base_uri": "https://localhost:8080/"
        },
        "id": "1UfOXUraMOzn",
        "outputId": "80fbad51-9276-4e76-8693-d1f54b42371f"
      },
      "execution_count": 4,
      "outputs": [
        {
          "output_type": "execute_result",
          "data": {
            "text/plain": [
              "{('BRU', 'FCO'): ['15:44', '18:55', '382']}"
            ]
          },
          "metadata": {},
          "execution_count": 4
        }
      ]
    },
    {
      "cell_type": "code",
      "source": [
        "voos [('BRU', 'FCO')]"
      ],
      "metadata": {
        "colab": {
          "base_uri": "https://localhost:8080/"
        },
        "id": "nElxfKBzNFVf",
        "outputId": "5851d5dd-2566-435c-a2bd-d45f8558f6e4"
      },
      "execution_count": 6,
      "outputs": [
        {
          "output_type": "execute_result",
          "data": {
            "text/plain": [
              "['15:44', '18:55', '382']"
            ]
          },
          "metadata": {},
          "execution_count": 6
        }
      ]
    },
    {
      "cell_type": "code",
      "source": [
        "#Teste de acesso aos dados nas suas respectivas posições\n",
        "voos [('BRU', 'FCO')][0], voos[('BRU','FCO')][1], voos [('BRU', 'FCO')][2]"
      ],
      "metadata": {
        "colab": {
          "base_uri": "https://localhost:8080/"
        },
        "id": "pdR7Q6ztOIky",
        "outputId": "99f552d1-64fb-4942-f857-9bafcf44da54"
      },
      "execution_count": 9,
      "outputs": [
        {
          "output_type": "execute_result",
          "data": {
            "text/plain": [
              "('15:44', '18:55', '382')"
            ]
          },
          "metadata": {},
          "execution_count": 9
        }
      ]
    },
    {
      "cell_type": "code",
      "source": [
        "#criando uma função para leitura do arquivo flights.txt - Arquivo contendo os dados dos voos!!\n",
        "voos = {}\n",
        "for linha in open('/content/flights.txt'):\n",
        "  #print(linha)\n",
        "  print(linha.split(','))"
      ],
      "metadata": {
        "colab": {
          "base_uri": "https://localhost:8080/"
        },
        "id": "1rb25IC-O2gZ",
        "outputId": "a09a59aa-b051-467e-ee1a-4a1197cdb380"
      },
      "execution_count": 3,
      "outputs": [
        {
          "output_type": "stream",
          "name": "stdout",
          "text": [
            "['FCO', 'LIS', '6:19', '8:13', '239\\n']\n",
            "['LIS', 'FCO', '6:11', '8:31', '249\\n']\n",
            "['FCO', 'LIS', '8:04', '10:59', '136\\n']\n",
            "['LIS', 'FCO', '7:39', '10:24', '219\\n']\n",
            "['FCO', 'LIS', '9:31', '11:43', '210\\n']\n",
            "['LIS', 'FCO', '9:15', '12:03', '99\\n']\n",
            "['FCO', 'LIS', '11:07', '13:24', '171\\n']\n",
            "['LIS', 'FCO', '11:08', '13:07', '175\\n']\n",
            "['FCO', 'LIS', '12:31', '14:02', '234\\n']\n",
            "['LIS', 'FCO', '12:18', '14:56', '172\\n']\n",
            "['FCO', 'LIS', '14:05', '15:47', '226\\n']\n",
            "['LIS', 'FCO', '13:37', '15:08', '250\\n']\n",
            "['FCO', 'LIS', '15:07', '17:21', '129\\n']\n",
            "['LIS', 'FCO', '15:03', '16:42', '135\\n']\n",
            "['FCO', 'LIS', '16:35', '18:56', '144\\n']\n",
            "['LIS', 'FCO', '16:51', '19:09', '147\\n']\n",
            "['FCO', 'LIS', '18:25', '20:34', '205\\n']\n",
            "['LIS', 'FCO', '18:12', '20:17', '242\\n']\n",
            "['FCO', 'LIS', '20:05', '21:44', '172\\n']\n",
            "['LIS', 'FCO', '20:05', '22:06', '261\\n']\n",
            "['FCO', 'MAD', '6:03', '8:43', '219\\n']\n",
            "['MAD', 'FCO', '6:05', '8:32', '174\\n']\n",
            "['FCO', 'MAD', '7:50', '10:08', '164\\n']\n",
            "['MAD', 'FCO', '8:25', '10:34', '157\\n']\n",
            "['FCO', 'MAD', '9:11', '10:42', '172\\n']\n",
            "['MAD', 'FCO', '9:42', '11:32', '169\\n']\n",
            "['FCO', 'MAD', '10:33', '13:11', '132\\n']\n",
            "['MAD', 'FCO', '11:01', '12:39', '260\\n']\n",
            "['FCO', 'MAD', '12:08', '14:47', '231\\n']\n",
            "['MAD', 'FCO', '12:44', '14:17', '134\\n']\n",
            "['FCO', 'MAD', '14:19', '17:09', '190\\n']\n",
            "['MAD', 'FCO', '14:22', '16:32', '126\\n']\n",
            "['FCO', 'MAD', '15:04', '17:23', '189\\n']\n",
            "['MAD', 'FCO', '15:58', '18:40', '173\\n']\n",
            "['FCO', 'MAD', '17:06', '20:00', '95\\n']\n",
            "['MAD', 'FCO', '16:43', '19:00', '246\\n']\n",
            "['FCO', 'MAD', '18:33', '20:22', '143\\n']\n",
            "['MAD', 'FCO', '18:48', '21:45', '246\\n']\n",
            "['FCO', 'MAD', '19:32', '21:25', '160\\n']\n",
            "['MAD', 'FCO', '19:50', '22:24', '269\\n']\n",
            "['FCO', 'CDG', '6:33', '9:14', '172\\n']\n",
            "['CDG', 'FCO', '6:25', '9:30', '335\\n']\n",
            "['FCO', 'CDG', '8:23', '11:07', '143\\n']\n",
            "['CDG', 'FCO', '7:34', '9:40', '324\\n']\n",
            "['FCO', 'CDG', '9:25', '12:46', '295\\n']\n",
            "['CDG', 'FCO', '9:15', '12:29', '225\\n']\n",
            "['FCO', 'CDG', '11:08', '14:38', '262\\n']\n",
            "['CDG', 'FCO', '11:28', '14:40', '248\\n']\n",
            "['FCO', 'CDG', '12:37', '15:05', '170\\n']\n",
            "['CDG', 'FCO', '12:05', '15:30', '330\\n']\n",
            "['FCO', 'CDG', '14:08', '16:09', '232\\n']\n",
            "['CDG', 'FCO', '14:01', '17:24', '338\\n']\n",
            "['FCO', 'CDG', '15:23', '18:49', '150\\n']\n",
            "['CDG', 'FCO', '15:34', '18:11', '326\\n']\n",
            "['FCO', 'CDG', '16:50', '19:26', '304\\n']\n",
            "['CDG', 'FCO', '17:07', '20:04', '291\\n']\n",
            "['FCO', 'CDG', '18:07', '21:30', '355\\n']\n",
            "['CDG', 'FCO', '18:23', '21:35', '134\\n']\n",
            "['FCO', 'CDG', '20:27', '23:42', '169\\n']\n",
            "['CDG', 'FCO', '19:53', '22:21', '173\\n']\n",
            "['FCO', 'DUB', '6:39', '8:09', '86\\n']\n",
            "['DUB', 'FCO', '6:17', '8:26', '89\\n']\n",
            "['FCO', 'DUB', '8:23', '10:28', '149\\n']\n",
            "['DUB', 'FCO', '8:04', '10:11', '95\\n']\n",
            "['FCO', 'DUB', '9:58', '11:18', '130\\n']\n",
            "['DUB', 'FCO', '9:45', '11:50', '172\\n']\n",
            "['FCO', 'DUB', '10:33', '12:03', '74\\n']\n",
            "['DUB', 'FCO', '11:16', '13:29', '83\\n']\n",
            "['FCO', 'DUB', '12:08', '14:05', '142\\n']\n",
            "['DUB', 'FCO', '12:34', '15:02', '109\\n']\n",
            "['FCO', 'DUB', '13:39', '15:30', '74\\n']\n",
            "['DUB', 'FCO', '13:40', '15:37', '138\\n']\n",
            "['FCO', 'DUB', '15:25', '16:58', '62\\n']\n",
            "['DUB', 'FCO', '15:27', '17:18', '151\\n']\n",
            "['FCO', 'DUB', '17:03', '18:03', '103\\n']\n",
            "['DUB', 'FCO', '17:11', '18:30', '108\\n']\n",
            "['FCO', 'DUB', '18:24', '20:49', '124\\n']\n",
            "['DUB', 'FCO', '18:34', '19:36', '136\\n']\n",
            "['FCO', 'DUB', '19:58', '21:23', '142\\n']\n",
            "['DUB', 'FCO', '20:17', '22:22', '102\\n']\n",
            "['FCO', 'BRU', '6:09', '9:49', '414\\n']\n",
            "['BRU', 'FCO', '6:12', '10:22', '230\\n']\n",
            "['FCO', 'BRU', '7:57', '11:15', '347\\n']\n",
            "['BRU', 'FCO', '7:53', '11:37', '433\\n']\n",
            "['FCO', 'BRU', '9:49', '13:51', '229\\n']\n",
            "['BRU', 'FCO', '9:08', '12:12', '364\\n']\n",
            "['FCO', 'BRU', '10:51', '14:16', '256\\n']\n",
            "['BRU', 'FCO', '10:30', '14:57', '290\\n']\n",
            "['FCO', 'BRU', '12:20', '16:34', '500\\n']\n",
            "['BRU', 'FCO', '12:19', '15:25', '342\\n']\n",
            "['FCO', 'BRU', '14:20', '17:32', '332\\n']\n",
            "['BRU', 'FCO', '13:54', '18:02', '294\\n']\n",
            "['FCO', 'BRU', '15:49', '20:10', '497\\n']\n",
            "['BRU', 'FCO', '15:44', '18:55', '382\\n']\n",
            "['FCO', 'BRU', '17:14', '20:59', '277\\n']\n",
            "['BRU', 'FCO', '16:52', '20:48', '448\\n']\n",
            "['FCO', 'BRU', '18:44', '22:42', '351\\n']\n",
            "['BRU', 'FCO', '18:26', '21:29', '464\\n']\n",
            "['FCO', 'BRU', '19:57', '23:15', '512\\n']\n",
            "['BRU', 'FCO', '20:07', '23:27', '473\\n']\n",
            "['FCO', 'LHR', '6:58', '9:01', '238\\n']\n",
            "['LHR', 'FCO', '6:08', '8:06', '224\\n']\n",
            "['FCO', 'LHR', '8:19', '11:16', '122\\n']\n",
            "['LHR', 'FCO', '8:27', '10:45', '139\\n']\n",
            "['FCO', 'LHR', '9:58', '12:56', '249\\n']\n",
            "['LHR', 'FCO', '9:15', '12:14', '247\\n']\n",
            "['FCO', 'LHR', '10:32', '13:16', '139\\n']\n",
            "['LHR', 'FCO', '10:53', '13:36', '189\\n']\n",
            "['FCO', 'LHR', '12:01', '13:41', '267\\n']\n",
            "['LHR', 'FCO', '12:08', '14:59', '149\\n']\n",
            "['FCO', 'LHR', '13:37', '15:33', '142\\n']\n",
            "['LHR', 'FCO', '13:40', '15:38', '137\\n']\n",
            "['FCO', 'LHR', '15:50', '18:45', '243\\n']\n",
            "['LHR', 'FCO', '15:23', '17:25', '232\\n']\n",
            "['FCO', 'LHR', '16:33', '18:15', '253\\n']\n",
            "['LHR', 'FCO', '17:08', '19:08', '262\\n']\n",
            "['FCO', 'LHR', '18:17', '21:04', '259\\n']\n",
            "['LHR', 'FCO', '18:35', '20:28', '204\\n']\n",
            "['FCO', 'LHR', '19:46', '21:45', '214\\n']\n",
            "['LHR', 'FCO', '20:30', '23:11', '114\\n']\n"
          ]
        }
      ]
    }
  ]
}